{
  "nbformat": 4,
  "nbformat_minor": 0,
  "metadata": {
    "colab": {
      "name": "Data cleaning and preprocessing.ipynb",
      "provenance": [],
      "collapsed_sections": [],
      "authorship_tag": "ABX9TyO6FHLv3vdlUZfB9yQbHMZj",
      "include_colab_link": true
    },
    "kernelspec": {
      "name": "python3",
      "display_name": "Python 3"
    },
    "language_info": {
      "name": "python"
    }
  },
  "cells": [
    {
      "cell_type": "markdown",
      "metadata": {
        "id": "view-in-github",
        "colab_type": "text"
      },
      "source": [
        "<a href=\"https://colab.research.google.com/github/rosangelahs/national_news1/blob/main/Data_cleaning_and_preprocessing.ipynb\" target=\"_parent\"><img src=\"https://colab.research.google.com/assets/colab-badge.svg\" alt=\"Open In Colab\"/></a>"
      ]
    },
    {
      "cell_type": "code",
      "execution_count": null,
      "metadata": {
        "id": "qOQJZOZzoMQ9"
      },
      "outputs": [],
      "source": [
        "from google.colab import drive\n",
        "drive.mount('/content/drive')\n",
        "import pandas as pd\n",
        "import numpy as np\n",
        "import re\n",
        "import unicodedata\n",
        "import string\n",
        "import spacy\n",
        "import nltk.corpus\n",
        "nltk.download('stopwords')\n",
        "from nltk.corpus import stopwords\n",
        "nltk.download('punkt')\n",
        "nltk.download('wordnet')\n",
        "nltk.download('omw-1.4')\n"
      ]
    },
    {
      "cell_type": "code",
      "source": [
        "data = pd.read_csv('drive/MyDrive/nn_data/scraped_data.csv', sep=';', engine='python', error_bad_lines=False)\n",
        "nn_df = pd.DataFrame(data)\n",
        "nn_df.columns=['index', 'title', 'new', 'summary'] "
      ],
      "metadata": {
        "id": "PKf0Dt1OuUF9"
      },
      "execution_count": null,
      "outputs": []
    },
    {
      "cell_type": "code",
      "source": [
        "# Rebuilding missing data\n",
        "nn_df.isna().any().sum() \n",
        "nn_df.dropna(axis=0, how='any', thresh=None, subset=None, inplace=False)"
      ],
      "metadata": {
        "id": "gNSEVUuRvRXh"
      },
      "execution_count": null,
      "outputs": []
    },
    {
      "cell_type": "code",
      "source": [
        "# Remove duplicated data\n",
        "nn_df.duplicated().sum()\n",
        "\n",
        "#Remove none values\n",
        "nn_df = nn_df.replace(to_replace='None', value=np.nan).dropna()"
      ],
      "metadata": {
        "id": "CaLUngV5xsST"
      },
      "execution_count": 4,
      "outputs": []
    },
    {
      "cell_type": "markdown",
      "source": [
        "**Data Preprocessing**"
      ],
      "metadata": {
        "id": "lSKasZ4ryfh8"
      }
    },
    {
      "cell_type": "code",
      "source": [
        "#Remove accented characters\n",
        "def remove_accented_chars(text):\n",
        "    new_text = unicodedata.normalize('NFKD', text).encode('ascii', 'ignore').decode('utf-8', 'ignore')\n",
        "    return new_text\n",
        "\n",
        "\n",
        "nn_df['new']=nn_df['new'].apply(remove_accented_chars)\n",
        "nn_df['summary']=nn_df['summary'].apply(remove_accented_chars)\n",
        "nn_df['title']=nn_df['title'].apply(remove_accented_chars)"
      ],
      "metadata": {
        "id": "2QxNrlkW4yz6"
      },
      "execution_count": 7,
      "outputs": []
    },
    {
      "cell_type": "code",
      "source": [
        "# Remove punctuation\n",
        "def remove_punctuation(text):\n",
        "  new_text = re.sub(r'[^\\w\\s]','',text)\n",
        "  return new_text\n",
        "\n",
        "\n",
        "nn_df['new']=nn_df['new'].apply(remove_punctuation)\n",
        "nn_df['summary']=nn_df['summary'].apply(remove_punctuation)\n",
        "nn_df['title']=nn_df['title'].apply(remove_punctuation)"
      ],
      "metadata": {
        "id": "Kge1jM9A9JR3"
      },
      "execution_count": 8,
      "outputs": []
    },
    {
      "cell_type": "code",
      "source": [
        "#Remove unicode characters\n",
        "def remove_unicode_characters(text):\n",
        "  new_text = re.sub(r\"(@\\[A-Za-z0-9]+)|([^0-9A-Za-z \\t])|(\\w+:\\/\\/\\S+)|^rt|http.+?\", \"\", text)\n",
        "  return new_text\n",
        "\n",
        "\n",
        "nn_df['new']=nn_df['new'].apply(remove_unicode_characters)\n",
        "nn_df['summary']=nn_df['summary'].apply(remove_unicode_characters)\n",
        "nn_df['title']=nn_df['title'].apply(remove_unicode_characters)  "
      ],
      "metadata": {
        "id": "xtATwUUeAIC5"
      },
      "execution_count": 9,
      "outputs": []
    },
    {
      "cell_type": "code",
      "source": [
        "#Remove numbers\n",
        "def remove_numbers(text):\n",
        "    # define the pattern to keep\n",
        "    pattern = r'[^a-zA-z.,!?/:;\\\"\\'\\s]' \n",
        "    return re.sub(pattern, '', text)\n",
        "\n",
        "\n",
        "nn_df['new']=nn_df['new'].apply(remove_numbers)\n",
        "nn_df['summary']=nn_df['summary'].apply(remove_numbers)\n",
        "nn_df['title']=nn_df['title'].apply(remove_numbers) "
      ],
      "metadata": {
        "id": "xmbfoH_nUANi"
      },
      "execution_count": 10,
      "outputs": []
    },
    {
      "cell_type": "code",
      "source": [
        "# Normalize text(lowercasing)\n",
        "nn_df['new']=nn_df['new'].str.lower()\n",
        "nn_df['summary']=nn_df['summary'].str.lower()\n",
        "nn_df['title'] = nn_df['title'].str.lower()"
      ],
      "metadata": {
        "id": "iXaOI_QAX3LJ"
      },
      "execution_count": 11,
      "outputs": []
    },
    {
      "cell_type": "code",
      "source": [
        "# Remove extra white spaces\n",
        "def remove_whitespace(text):\n",
        "    return  \" \".join(text.split())\n",
        "\n",
        "\n",
        "nn_df['new']=nn_df['new'].apply(remove_whitespace)\n",
        "nn_df['summary']=nn_df['summary'].apply(remove_whitespace)\n",
        "nn_df['title']=nn_df['title'].apply(remove_whitespace)"
      ],
      "metadata": {
        "id": "tfZZoN02XF5A"
      },
      "execution_count": 12,
      "outputs": []
    },
    {
      "cell_type": "code",
      "source": [
        "#Remove stopwords\n",
        "stop = stopwords.words('spanish')\n",
        "nn_df['title'] = nn_df['title'].apply(lambda x: ' '.join([word for word in x.split() if word not in (stop)]))\n",
        "nn_df['new'] = nn_df['new'].apply(lambda x: ' '.join([word for word in x.split() if word not in (stop)]))\n",
        "nn_df['summary'] = nn_df['summary'].apply(lambda x: ' '.join([word for word in x.split() if word not in (stop)]))"
      ],
      "metadata": {
        "id": "awFOBG5KkVOl"
      },
      "execution_count": 13,
      "outputs": []
    },
    {
      "cell_type": "code",
      "source": [
        "# Lemmatization\n",
        "!python -m spacy download es_core_news_sm\n",
        "nlp = spacy.load('es_core_news_sm')\n",
        "nn_df[\"title\"] = nn_df['title'].apply(lambda x: \" \".join([y.lemma_ for y in nlp(x)]))\n",
        "nn_df[\"new\"] = nn_df['new'].apply(lambda x: \" \".join([y.lemma_ for y in nlp(x)]))\n",
        "nn_df[\"summary\"] = nn_df['summary'].apply(lambda x: \" \".join([y.lemma_ for y in nlp(x)]))\n"
      ],
      "metadata": {
        "id": "ARTRY4erdGhe"
      },
      "execution_count": null,
      "outputs": []
    },
    {
      "cell_type": "code",
      "source": [
        "#Tokenization\n",
        "nn_df['tokenized_news'] = nn_df.apply(lambda row: nltk.word_tokenize(row['new']), axis=1)\n",
        "nn_df['tokenized_summaries'] = nn_df.apply(lambda row: nltk.word_tokenize(row['summary']), axis=1)"
      ],
      "metadata": {
        "id": "_i-e-XQM5ADE"
      },
      "execution_count": 17,
      "outputs": []
    },
    {
      "cell_type": "code",
      "source": [
        "from google.colab import files\n",
        "nn_df.to_csv('cleaned_data_with_lemmatization.csv') \n",
        "files.download('cleaned_data_with_lemmatization.csv')"
      ],
      "metadata": {
        "colab": {
          "base_uri": "https://localhost:8080/",
          "height": 17
        },
        "id": "4l5s2sDOUz3Z",
        "outputId": "2df8c2e2-1013-4b78-84f3-a859766a6d6d"
      },
      "execution_count": 20,
      "outputs": [
        {
          "output_type": "display_data",
          "data": {
            "text/plain": [
              "<IPython.core.display.Javascript object>"
            ],
            "application/javascript": [
              "\n",
              "    async function download(id, filename, size) {\n",
              "      if (!google.colab.kernel.accessAllowed) {\n",
              "        return;\n",
              "      }\n",
              "      const div = document.createElement('div');\n",
              "      const label = document.createElement('label');\n",
              "      label.textContent = `Downloading \"${filename}\": `;\n",
              "      div.appendChild(label);\n",
              "      const progress = document.createElement('progress');\n",
              "      progress.max = size;\n",
              "      div.appendChild(progress);\n",
              "      document.body.appendChild(div);\n",
              "\n",
              "      const buffers = [];\n",
              "      let downloaded = 0;\n",
              "\n",
              "      const channel = await google.colab.kernel.comms.open(id);\n",
              "      // Send a message to notify the kernel that we're ready.\n",
              "      channel.send({})\n",
              "\n",
              "      for await (const message of channel.messages) {\n",
              "        // Send a message to notify the kernel that we're ready.\n",
              "        channel.send({})\n",
              "        if (message.buffers) {\n",
              "          for (const buffer of message.buffers) {\n",
              "            buffers.push(buffer);\n",
              "            downloaded += buffer.byteLength;\n",
              "            progress.value = downloaded;\n",
              "          }\n",
              "        }\n",
              "      }\n",
              "      const blob = new Blob(buffers, {type: 'application/binary'});\n",
              "      const a = document.createElement('a');\n",
              "      a.href = window.URL.createObjectURL(blob);\n",
              "      a.download = filename;\n",
              "      div.appendChild(a);\n",
              "      a.click();\n",
              "      div.remove();\n",
              "    }\n",
              "  "
            ]
          },
          "metadata": {}
        },
        {
          "output_type": "display_data",
          "data": {
            "text/plain": [
              "<IPython.core.display.Javascript object>"
            ],
            "application/javascript": [
              "download(\"download_69330fc8-776a-4c3f-8a5b-aa56e7b294bc\", \"cleaned_data_with_lemmatization.csv\", 535935760)"
            ]
          },
          "metadata": {}
        }
      ]
    },
    {
      "cell_type": "code",
      "source": [
        "from google.colab import files\n",
        "nn_df.to_csv('filename.csv') \n",
        "files.download('filename.csv')"
      ],
      "metadata": {
        "colab": {
          "base_uri": "https://localhost:8080/",
          "height": 17
        },
        "id": "d9I7ycfhlqjC",
        "outputId": "d9feefd5-44d6-48ef-acb1-69a2793df5f0"
      },
      "execution_count": 156,
      "outputs": [
        {
          "output_type": "display_data",
          "data": {
            "text/plain": [
              "<IPython.core.display.Javascript object>"
            ],
            "application/javascript": [
              "\n",
              "    async function download(id, filename, size) {\n",
              "      if (!google.colab.kernel.accessAllowed) {\n",
              "        return;\n",
              "      }\n",
              "      const div = document.createElement('div');\n",
              "      const label = document.createElement('label');\n",
              "      label.textContent = `Downloading \"${filename}\": `;\n",
              "      div.appendChild(label);\n",
              "      const progress = document.createElement('progress');\n",
              "      progress.max = size;\n",
              "      div.appendChild(progress);\n",
              "      document.body.appendChild(div);\n",
              "\n",
              "      const buffers = [];\n",
              "      let downloaded = 0;\n",
              "\n",
              "      const channel = await google.colab.kernel.comms.open(id);\n",
              "      // Send a message to notify the kernel that we're ready.\n",
              "      channel.send({})\n",
              "\n",
              "      for await (const message of channel.messages) {\n",
              "        // Send a message to notify the kernel that we're ready.\n",
              "        channel.send({})\n",
              "        if (message.buffers) {\n",
              "          for (const buffer of message.buffers) {\n",
              "            buffers.push(buffer);\n",
              "            downloaded += buffer.byteLength;\n",
              "            progress.value = downloaded;\n",
              "          }\n",
              "        }\n",
              "      }\n",
              "      const blob = new Blob(buffers, {type: 'application/binary'});\n",
              "      const a = document.createElement('a');\n",
              "      a.href = window.URL.createObjectURL(blob);\n",
              "      a.download = filename;\n",
              "      div.appendChild(a);\n",
              "      a.click();\n",
              "      div.remove();\n",
              "    }\n",
              "  "
            ]
          },
          "metadata": {}
        },
        {
          "output_type": "display_data",
          "data": {
            "text/plain": [
              "<IPython.core.display.Javascript object>"
            ],
            "application/javascript": [
              "download(\"download_282d2a79-c2e7-41cb-b237-e056e0d578ac\", \"filename.csv\", 556693776)"
            ]
          },
          "metadata": {}
        }
      ]
    }
  ]
}